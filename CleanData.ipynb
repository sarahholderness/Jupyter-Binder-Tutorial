{
 "cells": [
  {
   "cell_type": "markdown",
   "id": "f3561092",
   "metadata": {},
   "source": []
  },
  {
   "cell_type": "code",
   "execution_count": 21,
   "id": "b030e6e9",
   "metadata": {},
   "outputs": [],
   "source": [
    "import pandas as pd\n",
    "import numpy as np"
   ]
  },
  {
   "cell_type": "code",
   "execution_count": 22,
   "id": "6f3b71f8",
   "metadata": {},
   "outputs": [],
   "source": [
    "df = pd.read_excel('SampleClientData.xlsx', sheet_name='OrderQuantities')\n",
    "regions = pd.read_excel('SampleClientData.xlsx', sheet_name='Regions')"
   ]
  },
  {
   "cell_type": "markdown",
   "id": "e84c7cbb",
   "metadata": {},
   "source": [
    "## Look at the Dataframe"
   ]
  },
  {
   "cell_type": "code",
   "execution_count": 23,
   "id": "8a584272",
   "metadata": {},
   "outputs": [
    {
     "data": {
      "text/html": [
       "<div>\n",
       "<style scoped>\n",
       "    .dataframe tbody tr th:only-of-type {\n",
       "        vertical-align: middle;\n",
       "    }\n",
       "\n",
       "    .dataframe tbody tr th {\n",
       "        vertical-align: top;\n",
       "    }\n",
       "\n",
       "    .dataframe thead th {\n",
       "        text-align: right;\n",
       "    }\n",
       "</style>\n",
       "<table border=\"1\" class=\"dataframe\">\n",
       "  <thead>\n",
       "    <tr style=\"text-align: right;\">\n",
       "      <th></th>\n",
       "      <th>Customer ID</th>\n",
       "      <th>Date</th>\n",
       "      <th>Vol</th>\n",
       "    </tr>\n",
       "  </thead>\n",
       "  <tbody>\n",
       "    <tr>\n",
       "      <th>0</th>\n",
       "      <td>C38</td>\n",
       "      <td>2020-03-31</td>\n",
       "      <td>884.0</td>\n",
       "    </tr>\n",
       "    <tr>\n",
       "      <th>1</th>\n",
       "      <td>NaN</td>\n",
       "      <td>2020-04-30</td>\n",
       "      <td>886.0</td>\n",
       "    </tr>\n",
       "    <tr>\n",
       "      <th>2</th>\n",
       "      <td>NaN</td>\n",
       "      <td>2020-05-31</td>\n",
       "      <td>968.0</td>\n",
       "    </tr>\n",
       "    <tr>\n",
       "      <th>3</th>\n",
       "      <td>NaN</td>\n",
       "      <td>2020-06-30</td>\n",
       "      <td>564.0</td>\n",
       "    </tr>\n",
       "    <tr>\n",
       "      <th>4</th>\n",
       "      <td>NaN</td>\n",
       "      <td>2020-07-31</td>\n",
       "      <td>648.0</td>\n",
       "    </tr>\n",
       "    <tr>\n",
       "      <th>...</th>\n",
       "      <td>...</td>\n",
       "      <td>...</td>\n",
       "      <td>...</td>\n",
       "    </tr>\n",
       "    <tr>\n",
       "      <th>902</th>\n",
       "      <td>NaN</td>\n",
       "      <td>2021-05-31</td>\n",
       "      <td>290.0</td>\n",
       "    </tr>\n",
       "    <tr>\n",
       "      <th>903</th>\n",
       "      <td>NaN</td>\n",
       "      <td>2021-04-30</td>\n",
       "      <td>294.0</td>\n",
       "    </tr>\n",
       "    <tr>\n",
       "      <th>904</th>\n",
       "      <td>NaN</td>\n",
       "      <td>2021-03-31</td>\n",
       "      <td>270.0</td>\n",
       "    </tr>\n",
       "    <tr>\n",
       "      <th>905</th>\n",
       "      <td>NaN</td>\n",
       "      <td>2021-02-28</td>\n",
       "      <td>224.0</td>\n",
       "    </tr>\n",
       "    <tr>\n",
       "      <th>906</th>\n",
       "      <td>NaN</td>\n",
       "      <td>2021-01-31</td>\n",
       "      <td>222.0</td>\n",
       "    </tr>\n",
       "  </tbody>\n",
       "</table>\n",
       "<p>907 rows × 3 columns</p>\n",
       "</div>"
      ],
      "text/plain": [
       "    Customer ID       Date    Vol\n",
       "0           C38 2020-03-31  884.0\n",
       "1           NaN 2020-04-30  886.0\n",
       "2           NaN 2020-05-31  968.0\n",
       "3           NaN 2020-06-30  564.0\n",
       "4           NaN 2020-07-31  648.0\n",
       "..          ...        ...    ...\n",
       "902         NaN 2021-05-31  290.0\n",
       "903         NaN 2021-04-30  294.0\n",
       "904         NaN 2021-03-31  270.0\n",
       "905         NaN 2021-02-28  224.0\n",
       "906         NaN 2021-01-31  222.0\n",
       "\n",
       "[907 rows x 3 columns]"
      ]
     },
     "execution_count": 23,
     "metadata": {},
     "output_type": "execute_result"
    }
   ],
   "source": [
    "df"
   ]
  },
  {
   "cell_type": "code",
   "execution_count": 24,
   "id": "fd574754",
   "metadata": {},
   "outputs": [
    {
     "data": {
      "text/html": [
       "<div>\n",
       "<style scoped>\n",
       "    .dataframe tbody tr th:only-of-type {\n",
       "        vertical-align: middle;\n",
       "    }\n",
       "\n",
       "    .dataframe tbody tr th {\n",
       "        vertical-align: top;\n",
       "    }\n",
       "\n",
       "    .dataframe thead th {\n",
       "        text-align: right;\n",
       "    }\n",
       "</style>\n",
       "<table border=\"1\" class=\"dataframe\">\n",
       "  <thead>\n",
       "    <tr style=\"text-align: right;\">\n",
       "      <th></th>\n",
       "      <th>Vol</th>\n",
       "    </tr>\n",
       "  </thead>\n",
       "  <tbody>\n",
       "    <tr>\n",
       "      <th>count</th>\n",
       "      <td>907.000000</td>\n",
       "    </tr>\n",
       "    <tr>\n",
       "      <th>mean</th>\n",
       "      <td>5376.309813</td>\n",
       "    </tr>\n",
       "    <tr>\n",
       "      <th>std</th>\n",
       "      <td>8551.586979</td>\n",
       "    </tr>\n",
       "    <tr>\n",
       "      <th>min</th>\n",
       "      <td>26.000000</td>\n",
       "    </tr>\n",
       "    <tr>\n",
       "      <th>25%</th>\n",
       "      <td>568.500000</td>\n",
       "    </tr>\n",
       "    <tr>\n",
       "      <th>50%</th>\n",
       "      <td>1173.000000</td>\n",
       "    </tr>\n",
       "    <tr>\n",
       "      <th>75%</th>\n",
       "      <td>5284.500000</td>\n",
       "    </tr>\n",
       "    <tr>\n",
       "      <th>max</th>\n",
       "      <td>41598.000000</td>\n",
       "    </tr>\n",
       "  </tbody>\n",
       "</table>\n",
       "</div>"
      ],
      "text/plain": [
       "                Vol\n",
       "count    907.000000\n",
       "mean    5376.309813\n",
       "std     8551.586979\n",
       "min       26.000000\n",
       "25%      568.500000\n",
       "50%     1173.000000\n",
       "75%     5284.500000\n",
       "max    41598.000000"
      ]
     },
     "execution_count": 24,
     "metadata": {},
     "output_type": "execute_result"
    }
   ],
   "source": [
    "df.describe()"
   ]
  },
  {
   "cell_type": "markdown",
   "id": "0e52581c",
   "metadata": {},
   "source": [
    "## Filling in missing Customer IDs"
   ]
  },
  {
   "cell_type": "code",
   "execution_count": 25,
   "id": "d406b729",
   "metadata": {},
   "outputs": [],
   "source": [
    "df['Customer ID'].fillna(method='ffill', inplace=True)"
   ]
  },
  {
   "cell_type": "markdown",
   "id": "4b1edd10",
   "metadata": {},
   "source": [
    "## Look at the Regions"
   ]
  },
  {
   "cell_type": "code",
   "execution_count": 28,
   "id": "7d5e9a66",
   "metadata": {},
   "outputs": [
    {
     "data": {
      "text/html": [
       "<div>\n",
       "<style scoped>\n",
       "    .dataframe tbody tr th:only-of-type {\n",
       "        vertical-align: middle;\n",
       "    }\n",
       "\n",
       "    .dataframe tbody tr th {\n",
       "        vertical-align: top;\n",
       "    }\n",
       "\n",
       "    .dataframe thead th {\n",
       "        text-align: right;\n",
       "    }\n",
       "</style>\n",
       "<table border=\"1\" class=\"dataframe\">\n",
       "  <thead>\n",
       "    <tr style=\"text-align: right;\">\n",
       "      <th></th>\n",
       "      <th>Customer ID</th>\n",
       "      <th>Region</th>\n",
       "    </tr>\n",
       "  </thead>\n",
       "  <tbody>\n",
       "    <tr>\n",
       "      <th>0</th>\n",
       "      <td>C1</td>\n",
       "      <td>NAM</td>\n",
       "    </tr>\n",
       "    <tr>\n",
       "      <th>1</th>\n",
       "      <td>C2</td>\n",
       "      <td>NAM</td>\n",
       "    </tr>\n",
       "    <tr>\n",
       "      <th>2</th>\n",
       "      <td>C3</td>\n",
       "      <td>EMEA</td>\n",
       "    </tr>\n",
       "    <tr>\n",
       "      <th>3</th>\n",
       "      <td>C4</td>\n",
       "      <td>NAM</td>\n",
       "    </tr>\n",
       "    <tr>\n",
       "      <th>4</th>\n",
       "      <td>C5</td>\n",
       "      <td>EMEA</td>\n",
       "    </tr>\n",
       "  </tbody>\n",
       "</table>\n",
       "</div>"
      ],
      "text/plain": [
       "  Customer ID Region\n",
       "0          C1    NAM\n",
       "1          C2    NAM\n",
       "2          C3   EMEA\n",
       "3          C4    NAM\n",
       "4          C5   EMEA"
      ]
     },
     "execution_count": 28,
     "metadata": {},
     "output_type": "execute_result"
    }
   ],
   "source": [
    "regions.head()"
   ]
  },
  {
   "cell_type": "markdown",
   "id": "8374fa54",
   "metadata": {},
   "source": [
    "### Get the Region in the df"
   ]
  },
  {
   "cell_type": "code",
   "execution_count": 31,
   "id": "53cec136",
   "metadata": {},
   "outputs": [],
   "source": [
    "# Create a dictionary and map to CLID in df\n",
    "region_dict = regions.copy()\n",
    "region_dict.index = regions['Customer ID']\n",
    "region_dict = region_dict['Region'].to_dict()\n"
   ]
  },
  {
   "cell_type": "code",
   "execution_count": 32,
   "id": "c7b904d5",
   "metadata": {},
   "outputs": [
    {
     "data": {
      "text/plain": [
       "NAM      343\n",
       "APAC     241\n",
       "LATAM    180\n",
       "EMEA     143\n",
       "Name: Region, dtype: int64"
      ]
     },
     "execution_count": 32,
     "metadata": {},
     "output_type": "execute_result"
    }
   ],
   "source": [
    "df['Region'] = df['Customer ID'].map(region_dict)\n",
    "# df\n",
    "df['Region'].value_counts()"
   ]
  },
  {
   "cell_type": "markdown",
   "id": "b91782a0",
   "metadata": {},
   "source": [
    "## Look at the dates to see Q2 of this year"
   ]
  },
  {
   "cell_type": "code",
   "execution_count": 26,
   "id": "00409de5",
   "metadata": {},
   "outputs": [
    {
     "data": {
      "text/plain": [
       "Timestamp('2020-01-31 00:00:00')"
      ]
     },
     "execution_count": 26,
     "metadata": {},
     "output_type": "execute_result"
    }
   ],
   "source": [
    "df['Date'].min()"
   ]
  },
  {
   "cell_type": "code",
   "execution_count": 27,
   "id": "3ddfe790",
   "metadata": {},
   "outputs": [
    {
     "data": {
      "text/plain": [
       "Timestamp('2021-06-30 00:00:00')"
      ]
     },
     "execution_count": 27,
     "metadata": {},
     "output_type": "execute_result"
    }
   ],
   "source": [
    "df['Date'].max()"
   ]
  },
  {
   "cell_type": "code",
   "execution_count": 29,
   "id": "dfcf8f90",
   "metadata": {},
   "outputs": [],
   "source": [
    "df['Year'] = df['Date'].dt.year\n",
    "df['Quarter'] = df['Date'].dt.quarter\n",
    "\n",
    "df['YearQuarter'] = df['Year'].astype(str) + '_' + df['Quarter'].astype(str)"
   ]
  },
  {
   "cell_type": "code",
   "execution_count": 30,
   "id": "0575aac9",
   "metadata": {},
   "outputs": [
    {
     "data": {
      "text/html": [
       "<div>\n",
       "<style scoped>\n",
       "    .dataframe tbody tr th:only-of-type {\n",
       "        vertical-align: middle;\n",
       "    }\n",
       "\n",
       "    .dataframe tbody tr th {\n",
       "        vertical-align: top;\n",
       "    }\n",
       "\n",
       "    .dataframe thead th {\n",
       "        text-align: right;\n",
       "    }\n",
       "</style>\n",
       "<table border=\"1\" class=\"dataframe\">\n",
       "  <thead>\n",
       "    <tr style=\"text-align: right;\">\n",
       "      <th></th>\n",
       "      <th>Customer ID</th>\n",
       "      <th>Date</th>\n",
       "      <th>Vol</th>\n",
       "      <th>Year</th>\n",
       "      <th>Quarter</th>\n",
       "      <th>YearQuarter</th>\n",
       "    </tr>\n",
       "  </thead>\n",
       "  <tbody>\n",
       "    <tr>\n",
       "      <th>0</th>\n",
       "      <td>C38</td>\n",
       "      <td>2020-03-31</td>\n",
       "      <td>884.0</td>\n",
       "      <td>2020</td>\n",
       "      <td>1</td>\n",
       "      <td>2020_1</td>\n",
       "    </tr>\n",
       "    <tr>\n",
       "      <th>1</th>\n",
       "      <td>C38</td>\n",
       "      <td>2020-04-30</td>\n",
       "      <td>886.0</td>\n",
       "      <td>2020</td>\n",
       "      <td>2</td>\n",
       "      <td>2020_2</td>\n",
       "    </tr>\n",
       "    <tr>\n",
       "      <th>2</th>\n",
       "      <td>C38</td>\n",
       "      <td>2020-05-31</td>\n",
       "      <td>968.0</td>\n",
       "      <td>2020</td>\n",
       "      <td>2</td>\n",
       "      <td>2020_2</td>\n",
       "    </tr>\n",
       "    <tr>\n",
       "      <th>3</th>\n",
       "      <td>C38</td>\n",
       "      <td>2020-06-30</td>\n",
       "      <td>564.0</td>\n",
       "      <td>2020</td>\n",
       "      <td>2</td>\n",
       "      <td>2020_2</td>\n",
       "    </tr>\n",
       "    <tr>\n",
       "      <th>4</th>\n",
       "      <td>C38</td>\n",
       "      <td>2020-07-31</td>\n",
       "      <td>648.0</td>\n",
       "      <td>2020</td>\n",
       "      <td>3</td>\n",
       "      <td>2020_3</td>\n",
       "    </tr>\n",
       "  </tbody>\n",
       "</table>\n",
       "</div>"
      ],
      "text/plain": [
       "  Customer ID       Date    Vol  Year  Quarter YearQuarter\n",
       "0         C38 2020-03-31  884.0  2020        1      2020_1\n",
       "1         C38 2020-04-30  886.0  2020        2      2020_2\n",
       "2         C38 2020-05-31  968.0  2020        2      2020_2\n",
       "3         C38 2020-06-30  564.0  2020        2      2020_2\n",
       "4         C38 2020-07-31  648.0  2020        3      2020_3"
      ]
     },
     "execution_count": 30,
     "metadata": {},
     "output_type": "execute_result"
    }
   ],
   "source": [
    "df.head()"
   ]
  },
  {
   "cell_type": "code",
   "execution_count": 33,
   "id": "f83ac31c",
   "metadata": {},
   "outputs": [
    {
     "data": {
      "text/html": [
       "<div>\n",
       "<style scoped>\n",
       "    .dataframe tbody tr th:only-of-type {\n",
       "        vertical-align: middle;\n",
       "    }\n",
       "\n",
       "    .dataframe tbody tr th {\n",
       "        vertical-align: top;\n",
       "    }\n",
       "\n",
       "    .dataframe thead th {\n",
       "        text-align: right;\n",
       "    }\n",
       "</style>\n",
       "<table border=\"1\" class=\"dataframe\">\n",
       "  <thead>\n",
       "    <tr style=\"text-align: right;\">\n",
       "      <th></th>\n",
       "      <th>Customer ID</th>\n",
       "      <th>Date</th>\n",
       "      <th>Vol</th>\n",
       "      <th>Year</th>\n",
       "      <th>Quarter</th>\n",
       "      <th>YearQuarter</th>\n",
       "      <th>Region</th>\n",
       "    </tr>\n",
       "  </thead>\n",
       "  <tbody>\n",
       "    <tr>\n",
       "      <th>10</th>\n",
       "      <td>C38</td>\n",
       "      <td>2021-06-30</td>\n",
       "      <td>561.0</td>\n",
       "      <td>2021</td>\n",
       "      <td>2</td>\n",
       "      <td>2021_2</td>\n",
       "      <td>LATAM</td>\n",
       "    </tr>\n",
       "    <tr>\n",
       "      <th>11</th>\n",
       "      <td>C38</td>\n",
       "      <td>2021-05-31</td>\n",
       "      <td>1014.0</td>\n",
       "      <td>2021</td>\n",
       "      <td>2</td>\n",
       "      <td>2021_2</td>\n",
       "      <td>LATAM</td>\n",
       "    </tr>\n",
       "    <tr>\n",
       "      <th>12</th>\n",
       "      <td>C38</td>\n",
       "      <td>2021-04-30</td>\n",
       "      <td>878.0</td>\n",
       "      <td>2021</td>\n",
       "      <td>2</td>\n",
       "      <td>2021_2</td>\n",
       "      <td>LATAM</td>\n",
       "    </tr>\n",
       "    <tr>\n",
       "      <th>28</th>\n",
       "      <td>C29</td>\n",
       "      <td>2021-06-30</td>\n",
       "      <td>846.0</td>\n",
       "      <td>2021</td>\n",
       "      <td>2</td>\n",
       "      <td>2021_2</td>\n",
       "      <td>NAM</td>\n",
       "    </tr>\n",
       "    <tr>\n",
       "      <th>29</th>\n",
       "      <td>C29</td>\n",
       "      <td>2021-05-31</td>\n",
       "      <td>1553.0</td>\n",
       "      <td>2021</td>\n",
       "      <td>2</td>\n",
       "      <td>2021_2</td>\n",
       "      <td>NAM</td>\n",
       "    </tr>\n",
       "    <tr>\n",
       "      <th>...</th>\n",
       "      <td>...</td>\n",
       "      <td>...</td>\n",
       "      <td>...</td>\n",
       "      <td>...</td>\n",
       "      <td>...</td>\n",
       "      <td>...</td>\n",
       "      <td>...</td>\n",
       "    </tr>\n",
       "    <tr>\n",
       "      <th>870</th>\n",
       "      <td>C2</td>\n",
       "      <td>2021-05-31</td>\n",
       "      <td>38501.0</td>\n",
       "      <td>2021</td>\n",
       "      <td>2</td>\n",
       "      <td>2021_2</td>\n",
       "      <td>NAM</td>\n",
       "    </tr>\n",
       "    <tr>\n",
       "      <th>871</th>\n",
       "      <td>C2</td>\n",
       "      <td>2021-04-30</td>\n",
       "      <td>33923.0</td>\n",
       "      <td>2021</td>\n",
       "      <td>2</td>\n",
       "      <td>2021_2</td>\n",
       "      <td>NAM</td>\n",
       "    </tr>\n",
       "    <tr>\n",
       "      <th>901</th>\n",
       "      <td>C49</td>\n",
       "      <td>2021-06-30</td>\n",
       "      <td>195.0</td>\n",
       "      <td>2021</td>\n",
       "      <td>2</td>\n",
       "      <td>2021_2</td>\n",
       "      <td>APAC</td>\n",
       "    </tr>\n",
       "    <tr>\n",
       "      <th>902</th>\n",
       "      <td>C49</td>\n",
       "      <td>2021-05-31</td>\n",
       "      <td>290.0</td>\n",
       "      <td>2021</td>\n",
       "      <td>2</td>\n",
       "      <td>2021_2</td>\n",
       "      <td>APAC</td>\n",
       "    </tr>\n",
       "    <tr>\n",
       "      <th>903</th>\n",
       "      <td>C49</td>\n",
       "      <td>2021-04-30</td>\n",
       "      <td>294.0</td>\n",
       "      <td>2021</td>\n",
       "      <td>2</td>\n",
       "      <td>2021_2</td>\n",
       "      <td>APAC</td>\n",
       "    </tr>\n",
       "  </tbody>\n",
       "</table>\n",
       "<p>147 rows × 7 columns</p>\n",
       "</div>"
      ],
      "text/plain": [
       "    Customer ID       Date      Vol  Year  Quarter YearQuarter Region\n",
       "10          C38 2021-06-30    561.0  2021        2      2021_2  LATAM\n",
       "11          C38 2021-05-31   1014.0  2021        2      2021_2  LATAM\n",
       "12          C38 2021-04-30    878.0  2021        2      2021_2  LATAM\n",
       "28          C29 2021-06-30    846.0  2021        2      2021_2    NAM\n",
       "29          C29 2021-05-31   1553.0  2021        2      2021_2    NAM\n",
       "..          ...        ...      ...   ...      ...         ...    ...\n",
       "870          C2 2021-05-31  38501.0  2021        2      2021_2    NAM\n",
       "871          C2 2021-04-30  33923.0  2021        2      2021_2    NAM\n",
       "901         C49 2021-06-30    195.0  2021        2      2021_2   APAC\n",
       "902         C49 2021-05-31    290.0  2021        2      2021_2   APAC\n",
       "903         C49 2021-04-30    294.0  2021        2      2021_2   APAC\n",
       "\n",
       "[147 rows x 7 columns]"
      ]
     },
     "execution_count": 33,
     "metadata": {},
     "output_type": "execute_result"
    }
   ],
   "source": [
    "# Filter data frame just to include Q2\n",
    "q2 = df[df['YearQuarter']=='2021_2']\n",
    "q2"
   ]
  },
  {
   "cell_type": "markdown",
   "id": "e83e270b",
   "metadata": {},
   "source": [
    "## Which region has the most volume?"
   ]
  },
  {
   "cell_type": "code",
   "execution_count": 34,
   "id": "baeafbf5",
   "metadata": {},
   "outputs": [
    {
     "data": {
      "text/plain": [
       "Region\n",
       "APAC     109811.0\n",
       "EMEA     176338.0\n",
       "LATAM     82631.0\n",
       "NAM      596502.0\n",
       "Name: Vol, dtype: float64"
      ]
     },
     "execution_count": 34,
     "metadata": {},
     "output_type": "execute_result"
    }
   ],
   "source": [
    "# Which region has the most volume?\n",
    "# Group by region\n",
    "q2vol = q2.groupby(['Region'])['Vol'].sum()\n",
    "q2vol"
   ]
  },
  {
   "cell_type": "code",
   "execution_count": 35,
   "id": "ea853e0c",
   "metadata": {},
   "outputs": [
    {
     "data": {
      "text/plain": [
       "<AxesSubplot:xlabel='Region'>"
      ]
     },
     "execution_count": 35,
     "metadata": {},
     "output_type": "execute_result"
    },
    {
     "data": {
      "image/png": "[encoded data removed]",
      "text/plain": [
       "<Figure size 432x288 with 1 Axes>"
      ]
     },
     "metadata": {
      "needs_background": "light"
     },
     "output_type": "display_data"
    }
   ],
   "source": [
    "# Plot the Region volumes for Q2\n",
    "q2vol.plot.bar()"
   ]
  },
  {
   "cell_type": "code",
   "execution_count": null,
   "id": "efc4e343",
   "metadata": {},
   "outputs": [],
   "source": []
  },
  {
   "cell_type": "code",
   "execution_count": null,
   "id": "d40af310",
   "metadata": {},
   "outputs": [],
   "source": []
  }
 ],
 "metadata": {
  "kernelspec": {
   "display_name": "venv",
   "language": "python",
   "name": "venv"
  },
  "language_info": {
   "codemirror_mode": {
    "name": "ipython",
    "version": 3
   },
   "file_extension": ".py",
   "mimetype": "text/x-python",
   "name": "python",
   "nbconvert_exporter": "python",
   "pygments_lexer": "ipython3",
   "version": "3.8.9"
  }
 },
 "nbformat": 4,
 "nbformat_minor": 5
}
